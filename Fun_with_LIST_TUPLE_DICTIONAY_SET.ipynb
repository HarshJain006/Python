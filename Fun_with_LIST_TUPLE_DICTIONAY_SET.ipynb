{
  "nbformat": 4,
  "nbformat_minor": 0,
  "metadata": {
    "colab": {
      "provenance": [],
      "authorship_tag": "ABX9TyM0GNCe79ngUk7DwvF1p/m/",
      "include_colab_link": true
    },
    "kernelspec": {
      "name": "python3",
      "display_name": "Python 3"
    },
    "language_info": {
      "name": "python"
    }
  },
  "cells": [
    {
      "cell_type": "markdown",
      "metadata": {
        "id": "view-in-github",
        "colab_type": "text"
      },
      "source": [
        "<a href=\"https://colab.research.google.com/github/HarshJain006/Python/blob/main/Fun_with_LIST_TUPLE_DICTIONAY_SET.ipynb\" target=\"_parent\"><img src=\"https://colab.research.google.com/assets/colab-badge.svg\" alt=\"Open In Colab\"/></a>"
      ]
    },
    {
      "cell_type": "markdown",
      "source": [
        "# **LEVEL 1**"
      ],
      "metadata": {
        "id": "i1hIZxsJikem"
      }
    },
    {
      "cell_type": "code",
      "source": [],
      "metadata": {
        "id": "-KG7zrnRlNvG"
      },
      "execution_count": null,
      "outputs": []
    },
    {
      "cell_type": "markdown",
      "source": [
        "Question 1: Create a List\n",
        "Prompt the user to enter five numbers (separated by spaces) and store them in a list. Then, print the list."
      ],
      "metadata": {
        "id": "U4Pwyd6JizYk"
      }
    },
    {
      "cell_type": "code",
      "execution_count": null,
      "metadata": {
        "colab": {
          "base_uri": "https://localhost:8080/"
        },
        "id": "4EPmqWNzQQn0",
        "outputId": "3c6a0989-8f4f-4f13-c07b-3c5426c9bacb"
      },
      "outputs": [
        {
          "output_type": "stream",
          "name": "stdout",
          "text": [
            "Enter the number1 2 3 4 5 6 \n",
            "['1', '2', '3', '4', '5', '6', '']\n"
          ]
        }
      ],
      "source": [
        "#1\n",
        "listt=input(\"Enter the number\")\n",
        "my_list=list(listt.split(\" \"))\n",
        "print(my_list)\n"
      ]
    },
    {
      "cell_type": "code",
      "source": [
        "listt=input(\"Enter the number\")\n",
        "new__list=[int(x) for x in listt.split()]\n",
        "print(new__list)"
      ],
      "metadata": {
        "colab": {
          "base_uri": "https://localhost:8080/"
        },
        "id": "xU4WlXmMWsE0",
        "outputId": "e63b08e4-4a12-49e4-dd77-221f2f7aeb66"
      },
      "execution_count": null,
      "outputs": [
        {
          "output_type": "stream",
          "name": "stdout",
          "text": [
            "Enter the number1 2 3 4 5 6 7 8 \n",
            "[1, 2, 3, 4, 5, 6, 7, 8]\n"
          ]
        }
      ]
    },
    {
      "cell_type": "markdown",
      "source": [
        "Question 2: Create a Tuple Ask the user to input three words. Store them in a tuple and print the tuple."
      ],
      "metadata": {
        "id": "4kQXSqlLi4r3"
      }
    },
    {
      "cell_type": "code",
      "source": [
        "#2\n",
        "user_nput=input(\"Entere the 3 names\")\n",
        "print(tuple(user_nput.split()))"
      ],
      "metadata": {
        "colab": {
          "base_uri": "https://localhost:8080/"
        },
        "id": "dPoS4osJXDe2",
        "outputId": "b2141a26-8e3b-405d-b61d-18a5ad897951"
      },
      "execution_count": null,
      "outputs": [
        {
          "output_type": "stream",
          "name": "stdout",
          "text": [
            "Entere the 3 namesharsh jain is smaryt\n",
            "('harsh', 'jain', 'is', 'smaryt')\n"
          ]
        }
      ]
    },
    {
      "cell_type": "markdown",
      "source": [
        "Question 3: Create a Dictionary\n",
        "Take input from the user for two keys and their corresponding values, and create a dictionary with them. Print the dictionary."
      ],
      "metadata": {
        "id": "0Awj7q6Fi-7v"
      }
    },
    {
      "cell_type": "code",
      "source": [
        "#3\n",
        "\n",
        "my_dict={}\n",
        "n=int(input(\"enter the number of element\"))\n",
        "for i in range(n):\n",
        "  enter_key=input(\"key\")\n",
        "  enter_value=input(\"value\")\n",
        "  my_dict[enter_key]=enter_value\n",
        "\n",
        "print(my_dict)\n",
        "\n"
      ],
      "metadata": {
        "colab": {
          "base_uri": "https://localhost:8080/"
        },
        "id": "uWTtawLmXnoQ",
        "outputId": "43d05ee4-3cca-4ac7-a535-0893edf8b243"
      },
      "execution_count": null,
      "outputs": [
        {
          "output_type": "stream",
          "name": "stdout",
          "text": [
            "enter the number of element5\n",
            "key34\n",
            "value65\n",
            "key34\n",
            "value67\n",
            "key34\n",
            "value87\n",
            "key47\n",
            "value97\n",
            "key33\n",
            "value90\n",
            "{'34': '87', '47': '97', '33': '90'}\n"
          ]
        }
      ]
    },
    {
      "cell_type": "markdown",
      "source": [
        "Question 4: Create a Set\n",
        "Ask the user to enter six unique elements (separated by spaces) and store them in a set. Then, print the set.\n",
        "\n",
        "Let me know when you are ready to move on or need a hint!"
      ],
      "metadata": {
        "id": "X5DneYzsjBcn"
      }
    },
    {
      "cell_type": "code",
      "source": [
        "\n",
        "inputs=input(\"enter the element\")\n",
        "sets=set(inputs.split())\n",
        "print(sets)\n",
        "\n",
        "\n"
      ],
      "metadata": {
        "colab": {
          "base_uri": "https://localhost:8080/"
        },
        "id": "WFoEtLcafXPr",
        "outputId": "2bfab05a-5ac2-4490-c223-eace28bd91c7"
      },
      "execution_count": null,
      "outputs": [
        {
          "output_type": "stream",
          "name": "stdout",
          "text": [
            "enter the element3 4 5 7 8 4 5 7 3 6\n",
            "{'8', '3', '7', '4', '5', '6'}\n"
          ]
        }
      ]
    },
    {
      "cell_type": "markdown",
      "source": [
        "# **LEVEL 2**"
      ],
      "metadata": {
        "id": "1-BvPh8TigJG"
      }
    },
    {
      "cell_type": "markdown",
      "source": [
        "Question 1: List of Tuples\n",
        "Create a list where each element is a tuple consisting of a name and an age. Prompt the user to input three names and ages, and store them as tuples in a list. Finally, print the list of tuples."
      ],
      "metadata": {
        "id": "DGq6akkyjE0N"
      }
    },
    {
      "cell_type": "code",
      "source": [
        "my_list=[]\n",
        "n=3\n",
        "for i in range(n):\n",
        "  name=input(\"Enter name\")\n",
        "  age=input(\"enter age\")\n",
        "  entry=(name,age)\n",
        "  my_list.append(entry)\n",
        "\n",
        "print(my_list)\n",
        "\n"
      ],
      "metadata": {
        "colab": {
          "base_uri": "https://localhost:8080/"
        },
        "id": "ZimDmvDyijTl",
        "outputId": "11e4b6f3-2b08-45ad-c7e2-f4b76533a2a6"
      },
      "execution_count": null,
      "outputs": [
        {
          "output_type": "stream",
          "name": "stdout",
          "text": [
            "Enter namehh\n",
            "enter age87\n",
            "Enter namejh\n",
            "enter age09\n",
            "Enter nameghy\n",
            "enter age98\n",
            "[('hh', '87'), ('jh', '09'), ('ghy', '98')]\n"
          ]
        }
      ]
    },
    {
      "cell_type": "markdown",
      "source": [
        "Question 2: Nested Dictionary\n",
        "Create a nested dictionary where each key is a student's name and the value is another dictionary containing their grades in different subjects. Prompt the user to input the name of the student, and then for each student, input the subject and grade. Print the nested dictionary."
      ],
      "metadata": {
        "id": "1VGle_RZBymy"
      }
    },
    {
      "cell_type": "code",
      "source": [
        "dictt={}\n",
        "n=int(input(\"enter number of element\"))\n",
        "\n",
        "for i in range(n):\n",
        " main_dict={}\n",
        " student_key=input(\"enter name\")\n",
        " m=int(input(\"Enter the number of subjects\"))\n",
        " for j in range(m):\n",
        "        subject=input(\"enter subject\")\n",
        "        marks=input(\"enter marks\")\n",
        "        main_dict[subject]=marks\n",
        "dictt[student_key]=main_dict\n",
        "\n",
        "print(dictt)\n",
        "\n"
      ],
      "metadata": {
        "colab": {
          "base_uri": "https://localhost:8080/"
        },
        "id": "g8r3S0TCkzI8",
        "outputId": "bd3a83d6-8c55-4663-a366-3f76dd32e871"
      },
      "execution_count": null,
      "outputs": [
        {
          "output_type": "stream",
          "name": "stdout",
          "text": [
            "enter number of element2\n",
            "enter nameha\n",
            "Enter the number of subjects1\n",
            "enter subjectgf\n",
            "enter marks4\n",
            "enter nameht\n",
            "Enter the number of subjects1\n",
            "enter subjecthk\n",
            "enter marks54\n",
            "{'ha': {'gf': '4'}, 'ht': {'hk': '54'}}\n"
          ]
        }
      ]
    },
    {
      "cell_type": "code",
      "source": [
        "dictt = {}\n",
        "n = int(input(\"Enter the number of students: \"))\n",
        "for i in range(n):\n",
        "    main_dict = {}  # Initialize the dictionary for each student\n",
        "    student_key = input(\"Enter student's name: \")\n",
        "\n",
        "    m = int(input(\"Enter the number of subjects for this student: \"))\n",
        "    for j in range(m):\n",
        "        subject = input(\"Enter subject: \")\n",
        "        marks = input(\"Enter marks: \")\n",
        "        main_dict[subject] = marks\n",
        "\n",
        "    dictt[student_key] = main_dict  # Add the student dictionary to the main dictionary\n",
        "\n",
        "print(dictt)\n",
        "\n"
      ],
      "metadata": {
        "colab": {
          "base_uri": "https://localhost:8080/"
        },
        "id": "Gb8si7ubwhq-",
        "outputId": "2758a2f2-d2eb-4622-99e4-1d7fc8ed68b7"
      },
      "execution_count": null,
      "outputs": [
        {
          "output_type": "stream",
          "name": "stdout",
          "text": [
            "Enter the number of students: 2\n",
            "Enter student's name: harsh\n",
            "Enter the number of subjects for this student: 1\n",
            "Enter subject: hindi\n",
            "Enter marks: 56\n",
            "Enter student's name: yash\n",
            "Enter the number of subjects for this student: 1\n",
            "Enter subject: hindi\n",
            "Enter marks: 67\n",
            "{'harsh': {'hindi': '56'}, 'yash': {'hindi': '67'}}\n"
          ]
        }
      ]
    },
    {
      "cell_type": "markdown",
      "source": [
        "Question 3: Unique Set from Multiple Inputs\n",
        "Ask the user to enter elements for two sets. Combine these sets into a single set and ensure that all elements are unique. Print the resulting set."
      ],
      "metadata": {
        "id": "qHFBIVll1ih8"
      }
    },
    {
      "cell_type": "code",
      "source": [
        "set1=set()\n",
        "set2=set()\n",
        "n=int(input(\"Enter the number of elements for the first set: \"))\n",
        "for _ in range(n):\n",
        "  element = input(\"Enter an element for the first set: \")\n",
        "  set1.add(element)\n",
        "n2 = int(input(\"Enter the number of elements for the second set: \"))\n",
        "for _ in range(n2):\n",
        "  element = input(\"Enter an element for the second set: \")\n",
        "  set2.add(element)  # Add element to set2\n",
        "combined_set = set1.union(set2)\n",
        "print(combined_set)\n"
      ],
      "metadata": {
        "colab": {
          "base_uri": "https://localhost:8080/"
        },
        "id": "JLf5wedT1sd5",
        "outputId": "99fd64ff-ff1c-470c-bdc3-436ae20a0a13"
      },
      "execution_count": null,
      "outputs": [
        {
          "output_type": "stream",
          "name": "stdout",
          "text": [
            "Enter the number of elements for the first set: 3\n",
            "Enter an element for the first set: 5\n",
            "Enter an element for the first set: 7\n",
            "Enter an element for the first set: 9\n",
            "Enter the number of elements for the second set: 4\n",
            "Enter an element for the second set: 5\n",
            "Enter an element for the second set: 9\n",
            "Enter an element for the second set: 2\n",
            "Enter an element for the second set: 1\n",
            "{'1', '2', '9', '7', '5'}\n"
          ]
        }
      ]
    },
    {
      "cell_type": "code",
      "source": [
        "strings=input(\"\").split(' ')\n",
        "vowels='aeiouAEIOU'\n",
        "filtered_list=[s for s in strings if s[0] in vowels  ]\n",
        "print(filtered_list)"
      ],
      "metadata": {
        "colab": {
          "base_uri": "https://localhost:8080/"
        },
        "id": "unn7E7t92EEi",
        "outputId": "1bb4c81e-5dac-43fa-cb1f-eb43fd827400"
      },
      "execution_count": null,
      "outputs": [
        {
          "output_type": "stream",
          "name": "stdout",
          "text": [
            "harsh jain is preet smart and outstanding, still have no girlfriend []\n",
            "['is', 'and', 'outstanding,']\n"
          ]
        }
      ]
    },
    {
      "cell_type": "code",
      "source": [
        "# Get the list of strings from user input\n",
        "user_input = input(\"Enter a list of strings separated by commas: \")\n",
        "string_list = user_input.split(' ')  # Create a list from the input\n",
        "\n",
        "# Define the vowels\n",
        "vowels = 'aeiouAEIOU'\n",
        "\n",
        "# Filter the list to include only strings that start with a vowel\n",
        "filtered_list = [s.strip() for s in string_list if s.strip()[0] in vowels]\n",
        "\n",
        "# Print the filtered list\n",
        "print(filtered_list)\n"
      ],
      "metadata": {
        "colab": {
          "base_uri": "https://localhost:8080/"
        },
        "id": "Cgw_Rnxp8CoG",
        "outputId": "ae8dd086-2013-4e09-a266-55375863cabd"
      },
      "execution_count": null,
      "outputs": [
        {
          "output_type": "stream",
          "name": "stdout",
          "text": [
            "Enter a list of strings separated by commas: harsh jain is preet smart and outstanding, still have no girlfriend []\n",
            "['is', 'and', 'outstanding,']\n"
          ]
        }
      ]
    },
    {
      "cell_type": "markdown",
      "source": [
        "# **LEVEL 3**"
      ],
      "metadata": {
        "id": "cuCNDur48aFI"
      }
    },
    {
      "cell_type": "markdown",
      "source": [
        "Question 1: List of Dictionaries\n",
        "Create a list where each element is a dictionary containing details of a person. Prompt the user to input three details for each person: name, age, and city. Store these details in dictionaries and add them to the list. Finally, print the list of dictionaries."
      ],
      "metadata": {
        "id": "iXB9LCc58cQA"
      }
    },
    {
      "cell_type": "code",
      "source": [
        "my_dict={}\n",
        "listt=[]\n",
        "n=int(input(\"number of person\"))\n",
        "for i in range(n):\n",
        "  person=input(\"enter firt person\").split()\n",
        "  for j in range(len(person)):\n",
        "    name=input(\"enter name \")\n",
        "    age=input(\"aenter age\")\n",
        "    entry=(name,age)\n",
        "  my_dict[person]=entry\n",
        "\n",
        "print(my_dict)\n",
        "\n",
        "\n",
        "\n",
        "\n",
        "\n"
      ],
      "metadata": {
        "id": "z_6IdYsA8e25"
      },
      "execution_count": null,
      "outputs": []
    },
    {
      "cell_type": "markdown",
      "source": [
        "Question 2: Nested Set Operations\n",
        "You have two sets of numbers. Create a nested set where each inner set contains numbers that are divisible by a specific number. For example, one inner set for numbers divisible by 2 and another for numbers divisible by 3. Print the nested set."
      ],
      "metadata": {
        "id": "uqiAcIfrnI9k"
      }
    },
    {
      "cell_type": "code",
      "source": [
        "my_dict={x:x**2 for x in range(1,5)}\n",
        "print(my_dict)"
      ],
      "metadata": {
        "id": "0YeAuS529lA6",
        "colab": {
          "base_uri": "https://localhost:8080/"
        },
        "outputId": "6f8e3d67-ea7b-49a3-d2a9-7d27a2784da9"
      },
      "execution_count": null,
      "outputs": [
        {
          "output_type": "stream",
          "name": "stdout",
          "text": [
            "{1: 1, 2: 4, 3: 9, 4: 16}\n"
          ]
        }
      ]
    },
    {
      "cell_type": "code",
      "source": [
        "divisible_by_2 = set()\n",
        "divisible_by_3 = set()\n",
        "numbers = list(map(int, input(\"Enter numbers separated by space: \").split()))\n",
        "for num in numbers:\n",
        "    if num % 2 == 0:\n",
        "        divisible_by_2.add(num)\n",
        "    if num % 3 == 0:\n",
        "        divisible_by_3.add(num)\n",
        "nested_set = (divisible_by_2, divisible_by_3)\n",
        "print(nested_set)\n",
        "\n"
      ],
      "metadata": {
        "colab": {
          "base_uri": "https://localhost:8080/"
        },
        "id": "70qgREqMmVPm",
        "outputId": "da4392cd-6f3d-4b55-c9a0-6f35f55a1f4b"
      },
      "execution_count": null,
      "outputs": [
        {
          "output_type": "stream",
          "name": "stdout",
          "text": [
            "Enter numbers separated by space: 2 3 4 5 6 7 \n",
            "({2, 4, 6}, {3, 6})\n"
          ]
        }
      ]
    },
    {
      "cell_type": "markdown",
      "source": [
        "Question 3: Dictionary from List of Tuples\n",
        "You have a list of tuples where each tuple contains a key and a value. Create a dictionary from this list. Ensure that if there are duplicate keys, the last value is used. Print the resulting dictionary."
      ],
      "metadata": {
        "id": "B9_AAjsIn-x8"
      }
    },
    {
      "cell_type": "code",
      "source": [
        "# Input the number of tuples\n",
        "n = int(input(\"Enter the number of tuples: \"))\n",
        "\n",
        "# Initialize an empty list to store tuples\n",
        "tuple_list = []\n",
        "\n",
        "# Input tuples from the user\n",
        "for _ in range(n):\n",
        "    key = input(\"Enter key: \")\n",
        "    value = input(\"Enter value: \")\n",
        "    tuple_list.append((key, value))  # Append tuple (key, value) to the list\n",
        "\n",
        "# Initialize an empty dictionary\n",
        "my_dict = {}\n",
        "\n",
        "# Iterate through the list of tuples and update the dictionary\n",
        "for key, value in tuple_list:\n",
        "    my_dict[key] = value  # Update the dictionary with the key-value pair\n",
        "\n",
        "# Print the final dictionary\n",
        "print(my_dict)\n"
      ],
      "metadata": {
        "id": "b5S2mulAn8Tq"
      },
      "execution_count": null,
      "outputs": []
    },
    {
      "cell_type": "markdown",
      "source": [
        "Question 4: Unique Elements from Multiple Lists\n",
        "Given three lists, combine them into a single list containing only unique elements. Print the resulting list. Ensure that the combined list has no duplicates."
      ],
      "metadata": {
        "id": "XoR0j4AOogNO"
      }
    },
    {
      "cell_type": "code",
      "source": [
        "# Input three lists from the user\n",
        "list1 = input(\"Enter the first list of elements (space-separated): \").split()\n",
        "list2 = input(\"Enter the second list of elements (space-separated): \").split()\n",
        "list3 = input(\"Enter the third list of elements (space-separated): \").split()\n",
        "\n",
        "# Combine the three lists into one\n",
        "combined_list = list1 + list2 + list3\n",
        "\n",
        "# Use a set to remove duplicates\n",
        "unique_list = list(set(combined_list))\n",
        "\n",
        "# Print the resulting unique list\n",
        "print(\"The combined list with unique elements is:\", unique_list)\n"
      ],
      "metadata": {
        "colab": {
          "base_uri": "https://localhost:8080/"
        },
        "id": "xz1ApMiYocYy",
        "outputId": "96ecc030-185a-461e-d39d-41bb476c960e"
      },
      "execution_count": null,
      "outputs": [
        {
          "output_type": "stream",
          "name": "stdout",
          "text": [
            "Enter the first list of elements (space-separated): harsh jain is smart\n",
            "Enter the second list of elements (space-separated): Harsh is very smart\n",
            "Enter the third list of elements (space-separated): Hrsh is very very very smart\n",
            "The combined list with unique elements is: ['smart', 'harsh', 'is', 'Hrsh', 'Harsh', 'very', 'jain']\n"
          ]
        }
      ]
    },
    {
      "cell_type": "markdown",
      "source": [
        "# **Level 4: Intermediate-Advanced**"
      ],
      "metadata": {
        "id": "OtINDzxTwIyd"
      }
    },
    {
      "cell_type": "markdown",
      "source": [
        "Question 1: Dictionary with Lists as Values\n",
        "Create a dictionary where the keys are student names and the values are lists of scores for three subjects (e.g., math, science, and English). After inputting all the students and their scores, calculate the average score for each student and print it."
      ],
      "metadata": {
        "id": "0MYVgMZEx0FV"
      }
    },
    {
      "cell_type": "code",
      "source": [
        "# Initialize an empty dictionary to hold student data\n",
        "my_dict = {}\n",
        "\n",
        "# Get the number of students from the user\n",
        "n = int(input(\"Enter the number of students: \"))\n",
        "\n",
        "# Loop through each student\n",
        "for i in range(n):\n",
        "    student_name = input(\"Enter the name of the student: \")  # Student name\n",
        "    m = int(input(\"Enter the number of subjects: \"))  # Number of subjects\n",
        "\n",
        "    # Initialize a dictionary to hold subjects and marks for the current student\n",
        "    subject_marks = {}\n",
        "\n",
        "    # Loop through the subjects for each student\n",
        "    for j in range(m):\n",
        "        subject = input(\"Enter the name of the subject: \")  # Subject name\n",
        "        marks = int(input(\"Enter the marks for the subject: \"))  # Subject marks\n",
        "        subject_marks[subject] = marks  # Add subject and marks to the student's dictionary\n",
        "\n",
        "    # Add the student's subject marks dictionary to the main dictionary\n",
        "    my_dict[student_name] = subject_marks\n",
        "\n",
        "# Print the entire student data\n",
        "print(my_dict)\n",
        "\n",
        "\n",
        "\n",
        "\n",
        "\n"
      ],
      "metadata": {
        "id": "9ql4crlgxz23"
      },
      "execution_count": null,
      "outputs": []
    },
    {
      "cell_type": "markdown",
      "source": [
        "Question 2: Nested Dictionary for Inventory\n",
        "Create a nested dictionary to represent an inventory of a store. Each item in the store should have a name, a quantity, and a price. Allow the user to input multiple items, and then print the inventory in a readable format."
      ],
      "metadata": {
        "id": "vkB78wxhBdJl"
      }
    },
    {
      "cell_type": "code",
      "source": [
        "# Initialize an empty dictionary for the inventory\n",
        "inventory = {}\n",
        "\n",
        "# Get the number of items to input\n",
        "n = int(input(\"Enter the number of items to add to the inventory: \"))\n",
        "\n",
        "# Loop to input data for each item\n",
        "for i in range(n):\n",
        "    item_name = input(\"Enter the name of the item: \")  # Item name\n",
        "    quantity = int(input(f\"Enter the quantity for {item_name}: \"))  # Quantity\n",
        "    price = float(input(f\"Enter the price for {item_name}: \"))  # Price\n",
        "\n",
        "    # Store the item in the inventory with its quantity and price\n",
        "    inventory[item_name] = {'quantity': quantity, 'price': price}\n",
        "\n",
        "# Print the inventory in a readable format\n",
        "print(\"\\nInventory:\")\n",
        "for item, details in inventory.items():\n",
        "    print(f\"Item: {item}, Quantity: {details['quantity']}, Price: {details['price']}\")\n"
      ],
      "metadata": {
        "id": "s0SbW8doBcRU"
      },
      "execution_count": null,
      "outputs": []
    },
    {
      "cell_type": "markdown",
      "source": [
        "Question 3: Find the Intersection of Multiple Sets\n",
        "Given three\n",
        "\n",
        "sets, find the intersection (common elements) of all three sets and print the result. The sets should be input by the user."
      ],
      "metadata": {
        "id": "R3xeqBhZBk0E"
      }
    },
    {
      "cell_type": "code",
      "source": [
        "# Input the first set from the user\n",
        "set1 = set(input(\"Enter elements of the first set (space-separated): \").split())\n",
        "\n",
        "# Input the second set from the user\n",
        "set2 = set(input(\"Enter elements of the second set (space-separated): \").split())\n",
        "\n",
        "# Input the third set from the user\n",
        "set3 = set(input(\"Enter elements of the third set (space-separated): \").split())\n",
        "\n",
        "# Find the intersection of all three sets\n",
        "intersection_set = set1.intersection(set2).intersection(set3)\n",
        "\n",
        "# Print the common elements (intersection)\n",
        "print(\"Common elements in all three sets:\", intersection_set)\n"
      ],
      "metadata": {
        "id": "PO3yuWS6B9B7"
      },
      "execution_count": null,
      "outputs": []
    },
    {
      "cell_type": "markdown",
      "source": [
        "Question 4: List of Tuples Sorting\n",
        "You have a list of tuples where each tuple contains a person's name and their age. Sort the list in two ways:\n",
        "\n",
        "Alphabetically by name.\n",
        "By age (in ascending order). Print both sorted versions of the list."
      ],
      "metadata": {
        "id": "IuwcJeYPCTGS"
      }
    },
    {
      "cell_type": "code",
      "source": [
        "# Sample list of tuples (name, age)\n",
        "people = [(\"Alice\", 25), (\"Bob\", 20), (\"Charlie\", 30), (\"David\", 22)]\n",
        "\n",
        "# Sort by name (alphabetically)\n",
        "sorted_by_name = sorted(people, key=lambda x: x[0])\n",
        "\n",
        "# Sort by age (ascending)\n",
        "sorted_by_age = sorted(people, key=lambda x: x[1])\n",
        "\n",
        "# Print the results\n",
        "print(\"Sorted by name:\", sorted_by_name)\n",
        "print(\"Sorted by age:\", sorted_by_age)\n"
      ],
      "metadata": {
        "colab": {
          "base_uri": "https://localhost:8080/"
        },
        "id": "6PWjW0foCSZq",
        "outputId": "66f8752b-ac82-4b1c-ed61-a1b95df55934"
      },
      "execution_count": null,
      "outputs": [
        {
          "output_type": "stream",
          "name": "stdout",
          "text": [
            "Sorted by name: [('Alice', 25), ('Bob', 20), ('Charlie', 30), ('David', 22)]\n",
            "Sorted by age: [('Bob', 20), ('David', 22), ('Alice', 25), ('Charlie', 30)]\n"
          ]
        }
      ]
    },
    {
      "cell_type": "markdown",
      "source": [
        "Question 5: Frequency of Words in a Sentence\n",
        "Write a program that accepts a sentence from the user and counts the frequency of each word in the sentence. Output the words and their corresponding frequencies in descending order of frequency.\n",
        "\n"
      ],
      "metadata": {
        "id": "0Wa1xrf6Cslx"
      }
    },
    {
      "cell_type": "code",
      "source": [
        "from collections import Counter\n",
        "\n",
        "# Get the sentence from the user\n",
        "sentence = input(\"Enter a sentence: \")\n",
        "\n",
        "# Split the sentence into words\n",
        "words = sentence.split()\n",
        "\n",
        "# Count the frequency of each word using Counter\n",
        "word_counts = Counter(words)\n",
        "\n",
        "# Sort the word counts in descending order of frequency\n",
        "sorted_word_counts = sorted(word_counts.items(), key=lambda x: x[1], reverse=True)\n",
        "\n",
        "# Print the words and their frequencies\n",
        "print(\"Word frequencies (sorted in descending order):\")\n",
        "for word, count in sorted_word_counts:\n",
        "    print(f\"{word}: {count}\")\n"
      ],
      "metadata": {
        "id": "_A4pjXtCCsVh"
      },
      "execution_count": null,
      "outputs": []
    }
  ]
}